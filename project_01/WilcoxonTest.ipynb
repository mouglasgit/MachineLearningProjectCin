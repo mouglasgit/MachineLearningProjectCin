{
 "cells": [
  {
   "cell_type": "code",
   "execution_count": 1,
   "metadata": {},
   "outputs": [],
   "source": [
    "import numpy as np\n",
    "from scipy.stats import wilcoxon"
   ]
  },
  {
   "cell_type": "code",
   "execution_count": 2,
   "metadata": {},
   "outputs": [],
   "source": [
    "gnb_exec = np.loadtxt(\"aux_data/gnb_executions.txt\")\n",
    "knn_exec = np.loadtxt(\"aux_data/knn_executions.txt\")"
   ]
  },
  {
   "cell_type": "code",
   "execution_count": 3,
   "metadata": {},
   "outputs": [
    {
     "name": "stdout",
     "output_type": "stream",
     "text": [
      "[2.07070707 2.0591133  2.         2.08333333 2.06372549 2.0591133\n",
      " 2.03030303 2.03482587 2.05555556 2.05025126 2.07070707 2.10552764\n",
      " 2.02955665 2.05527638 2.00505051 2.05050505 2.06532663 2.05050505\n",
      " 2.02020202 2.09359606 2.06565657 2.07462687 2.06896552 2.01507538\n",
      " 2.0959596  2.06467662 2.12807882 2.04926108 2.03030303 2.05025126]\n",
      "[2.98507463 2.97474747 2.97979798 2.98484848 2.98492462 2.98484848\n",
      " 2.99494949 2.9798995  2.98039216 2.9800995  2.98484848 2.98989899\n",
      " 2.96969697 2.98492462 2.99014778 2.97979798 2.98484848 2.97058824\n",
      " 2.98029557 2.98484848 2.98029557 2.98529412 2.97979798 2.99019608\n",
      " 2.98029557 2.97058824 2.97979798 2.98492462 2.97474747 2.99019608]\n"
     ]
    }
   ],
   "source": [
    "print(gnb_exec)\n",
    "print(knn_exec)"
   ]
  },
  {
   "cell_type": "code",
   "execution_count": 4,
   "metadata": {},
   "outputs": [
    {
     "name": "stdout",
     "output_type": "stream",
     "text": [
      "0.0\n",
      "GNB P-Value: 0.00000173\n"
     ]
    }
   ],
   "source": [
    "w_gnb, p_gnb = wilcoxon(gnb_exec)\n",
    "print(w_gnb)\n",
    "print(\"GNB P-Value: {:.08f}\".format(p_gnb))\n"
   ]
  },
  {
   "cell_type": "code",
   "execution_count": 5,
   "metadata": {},
   "outputs": [
    {
     "name": "stdout",
     "output_type": "stream",
     "text": [
      "0.0\n",
      "KNN P-Value: 0.00000170\n"
     ]
    }
   ],
   "source": [
    "w_knn, p_knn = wilcoxon(knn_exec)\n",
    "print(w_knn)\n",
    "print(\"KNN P-Value: {:.08f}\".format(p_knn))"
   ]
  },
  {
   "cell_type": "code",
   "execution_count": null,
   "metadata": {},
   "outputs": [],
   "source": []
  },
  {
   "cell_type": "code",
   "execution_count": null,
   "metadata": {},
   "outputs": [],
   "source": []
  },
  {
   "cell_type": "code",
   "execution_count": null,
   "metadata": {},
   "outputs": [],
   "source": []
  },
  {
   "cell_type": "code",
   "execution_count": null,
   "metadata": {},
   "outputs": [],
   "source": []
  }
 ],
 "metadata": {
  "kernelspec": {
   "display_name": "Python 3",
   "language": "python",
   "name": "python3"
  },
  "language_info": {
   "codemirror_mode": {
    "name": "ipython",
    "version": 3
   },
   "file_extension": ".py",
   "mimetype": "text/x-python",
   "name": "python",
   "nbconvert_exporter": "python",
   "pygments_lexer": "ipython3",
   "version": "3.7.3"
  }
 },
 "nbformat": 4,
 "nbformat_minor": 2
}
