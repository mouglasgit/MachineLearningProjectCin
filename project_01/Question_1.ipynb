{
 "cells": [
  {
   "cell_type": "code",
   "execution_count": 28,
   "metadata": {},
   "outputs": [],
   "source": [
    "# -*- coding: utf-8 -*-\n",
    "\n",
    "import math\n",
    "import time\n",
    "import multiprocessing\n",
    "\n",
    "import random as rd \n",
    "import matplotlib.pyplot as plt\n",
    "from sklearn.preprocessing import MinMaxScaler\n",
    "from sklearn.metrics.cluster import adjusted_rand_score\n",
    "\n",
    "import numpy as np\n",
    "import numba as nb\n",
    "from numba import cuda, float32, int32"
   ]
  },
  {
   "cell_type": "code",
   "execution_count": 29,
   "metadata": {},
   "outputs": [],
   "source": [
    "m = 1.6\n",
    "K=10\n",
    "T = 150\n",
    "e = 10 ** -10"
   ]
  },
  {
   "cell_type": "code",
   "execution_count": 30,
   "metadata": {},
   "outputs": [],
   "source": [
    "@cuda.jit\n",
    "def cuda_calculate_dissimilarity(data, out_diss_mtx):  \n",
    "    i = cuda.grid(1)\n",
    "    for k in range(0, len(data)):\n",
    "        sum=0\n",
    "        for j in range(0,len(data[k])):\n",
    "            sum+=(abs(data[i, j]-data[k, j]))**2\n",
    "        out_diss_mtx[k, i]=math.sqrt(sum)"
   ]
  },
  {
   "cell_type": "code",
   "execution_count": 31,
   "metadata": {},
   "outputs": [],
   "source": [
    "def random_medoid_vector(D, K):\n",
    "    return np.array([[rd.randint(0, len(D[j]) - 1) for j in range(len(D))] for _ in range(K)], dtype=np.int16)"
   ]
  },
  {
   "cell_type": "code",
   "execution_count": 32,
   "metadata": {},
   "outputs": [],
   "source": [
    "def relevance_weight_vector(D, K):\n",
    "    return np.ones([K + 1, len(D)])"
   ]
  },
  {
   "cell_type": "code",
   "execution_count": 33,
   "metadata": {},
   "outputs": [],
   "source": [
    "@cuda.jit\n",
    "def cuda_membership_degree_vector(D, G, L, md_u_i, U):  \n",
    "    global m, K\n",
    "    \n",
    "    p = len(D)\n",
    "    n = len(D[0])\n",
    "    k = cuda.grid(1)\n",
    "    \n",
    "    for i in range(n):\n",
    "        accum=0\n",
    "        for h in range(K):\n",
    "            up_sum = 0\n",
    "            down_sum = 0 \n",
    "            for j in range(p):\n",
    "                up_sum += L[k, j] * D[j, i, G[k, j]]\n",
    "            for j in range(p):\n",
    "                down_sum += L[h, j] * D[j, i, G[h, j]]\n",
    "            accum += (float(up_sum) / (down_sum + 1e-25)) ** (1. / (m - 1.))\n",
    "\n",
    "        md_u_i[k]=(accum + 1e-25) ** -1.\n",
    "        \n",
    "        U[i, k]=md_u_i[k]\n",
    "        cuda.syncthreads()"
   ]
  },
  {
   "cell_type": "code",
   "execution_count": 34,
   "metadata": {},
   "outputs": [],
   "source": [
    "def objective_function(D, G, L, U):  \n",
    "    global m, K\n",
    "    n = len(D[0])\n",
    "    p = len(D)\n",
    "    accum = 0\n",
    "    for k in range(K):\n",
    "        for i in range(n):\n",
    "            accum += (U[i][k] ** m) * np.array([L[k][j] * D[j][i][G[k][j]] for j in range(p)]).sum()\n",
    "    return accum\n"
   ]
  },
  {
   "cell_type": "code",
   "execution_count": 35,
   "metadata": {},
   "outputs": [],
   "source": [
    "@cuda.jit\n",
    "def cuda_find_best_medoid(D, U, temp_array, idx, nG):\n",
    "    global m, K\n",
    "    \n",
    "    n = len(D[0])\n",
    "    p = len(D)\n",
    "    h = cuda.grid(1)\n",
    "    for k in range(K):\n",
    "#         k=1\n",
    "        for j in range(0, p):\n",
    "            sum=0\n",
    "            for i in range(n):\n",
    "                sum += ((U[i, k] ** m) * (D[j, i, h]))\n",
    "            temp_array[j, h]=sum\n",
    "        cuda.syncthreads()\n",
    "        #find argmin------------------\n",
    "        for j in range(0, p):\n",
    "            min=np.inf\n",
    "            for i in range(temp_array[j].shape[0]):\n",
    "                if temp_array[j, i]<min:\n",
    "                    min=temp_array[j, i]\n",
    "                    idx[j]=i\n",
    "            nG[k, j]=idx[j]\n",
    "        #----------------------------------"
   ]
  },
  {
   "cell_type": "code",
   "execution_count": 36,
   "metadata": {},
   "outputs": [],
   "source": [
    "@cuda.jit\n",
    "def cuda_calculate_relevance_weights(D, G, U, aux_nL):  \n",
    "    global m, K\n",
    "    \n",
    "    n = len(D[0])\n",
    "    p = len(D)\n",
    "    \n",
    "    k = cuda.grid(1)\n",
    "    \n",
    "    for j in range(p):\n",
    "        prod = 1 \n",
    "        for h in range(p):\n",
    "            accum = 0\n",
    "            for i in range(n):\n",
    "                accum += ((U[i, k] ** m) * D[h, i, G[k, h]])\n",
    "            prod *= accum\n",
    "        up_sum = prod\n",
    "        down_sum = 0 \n",
    "        for i in range(n):\n",
    "            down_sum += ((U[i, k] ** m) * D[j, i, G[k, j]])\n",
    "        l_k_j = (float(up_sum) ** (1. / p)) / down_sum\n",
    "        \n",
    "        aux_nL[k, j]=l_k_j\n",
    "        cuda.syncthreads()"
   ]
  },
  {
   "cell_type": "code",
   "execution_count": 37,
   "metadata": {},
   "outputs": [],
   "source": [
    "@cuda.jit\n",
    "def cuda_find_best_fuzzy_partition(D, G, L, u_i, nU):  \n",
    "    global m, K\n",
    "    \n",
    "    p = len(D)\n",
    "    n = len(D[0])\n",
    "    k = cuda.grid(1)\n",
    "    \n",
    "    for i in range(n):\n",
    "        accum=0\n",
    "        for h in range(K):\n",
    "            up_sum = 0\n",
    "            down_sum = 0 \n",
    "            for j in range(p):\n",
    "                up_sum += L[k, j] * D[j, i, G[k, j]]\n",
    "            for j in range(p):\n",
    "                down_sum += L[h, j] * D[j, i, G[h, j]]\n",
    "            accum += (float(up_sum) / (down_sum + 1e-25)) ** (1. / (m - 1.))\n",
    "\n",
    "        u_i[k]=(accum + 1e-25) ** -1.\n",
    "        \n",
    "        nU[i, k]=u_i[k]\n",
    "        cuda.syncthreads()\n",
    "\n"
   ]
  },
  {
   "cell_type": "code",
   "execution_count": 38,
   "metadata": {},
   "outputs": [],
   "source": [
    "# datasets \n",
    "a1 = np.loadtxt(\"read_data/mfeat-fou\")\n",
    "a2 = np.loadtxt(\"read_data/mfeat-fac\")\n",
    "a3 = np.loadtxt(\"read_data/mfeat-kar\")\n",
    "\n",
    "d1 = np.array(a1, dtype=np.float32)\n",
    "d2 = np.array(a2, dtype=np.float32)\n",
    "d3 = np.array(a3, dtype=np.float32)\n",
    "\n",
    "scaler = MinMaxScaler(feature_range=(0, 1))\n",
    "d1 = scaler.fit_transform(d1)\n",
    "d2 = scaler.fit_transform(d2)\n",
    "d3 = scaler.fit_transform(d3)\n",
    "\n",
    "X1, Y1=d1.shape\n",
    "X2, Y2=d2.shape\n",
    "X3, Y3=d3.shape\n"
   ]
  },
  {
   "cell_type": "code",
   "execution_count": 39,
   "metadata": {},
   "outputs": [],
   "source": [
    "out_diss_mtx1=np.empty(shape=(X1, X1), dtype=np.float32)\n",
    "out_diss_mtx2=np.empty(shape=(X2, X2), dtype=np.float32)\n",
    "out_diss_mtx3=np.empty(shape=(X3, X3), dtype=np.float32)"
   ]
  },
  {
   "cell_type": "code",
   "execution_count": 40,
   "metadata": {},
   "outputs": [
    {
     "name": "stdout",
     "output_type": "stream",
     "text": [
      "Calculate Mtx1: 0.3670084476470947\n",
      "Calculate Mtx2: 0.3057377338409424\n",
      "Calculate Mtx3: 0.06549644470214844\n"
     ]
    }
   ],
   "source": [
    "s1 = time.time()\n",
    "cuda.current_context().deallocations.clear()\n",
    "with cuda.defer_cleanup():\n",
    "    threadsperblock = 1024\n",
    "    blockspergrid = (X1 + (threadsperblock - 1)) // threadsperblock\n",
    "    cuda_calculate_dissimilarity[blockspergrid, threadsperblock](d1, out_diss_mtx1)\n",
    "print(\"Calculate Mtx1: {}\".format(time.time() - s1))\n",
    "\n",
    "s1 = time.time()\n",
    "cuda.current_context().deallocations.clear()\n",
    "with cuda.defer_cleanup():\n",
    "    threadsperblock = 1024\n",
    "    blockspergrid = (X2 + (threadsperblock - 1)) // threadsperblock\n",
    "    cuda_calculate_dissimilarity[blockspergrid, threadsperblock](d2, out_diss_mtx2)\n",
    "print(\"Calculate Mtx2: {}\".format(time.time() - s1))\n",
    "\n",
    "s1 = time.time()\n",
    "cuda.current_context().deallocations.clear()\n",
    "with cuda.defer_cleanup():\n",
    "    threadsperblock = 1024\n",
    "    blockspergrid = (X3 + (threadsperblock - 1)) // threadsperblock\n",
    "    cuda_calculate_dissimilarity[blockspergrid, threadsperblock](d3, out_diss_mtx3)\n",
    "print(\"Calculate Mtx3: {}\".format(time.time() - s1))\n"
   ]
  },
  {
   "cell_type": "code",
   "execution_count": 41,
   "metadata": {},
   "outputs": [],
   "source": [
    "import time, sys\n",
    "from IPython.display import clear_output\n",
    "def update_progress(progress, u_t, exe_id):\n",
    "    bar_length = 50\n",
    "    if isinstance(progress, int):\n",
    "        progress = float(progress)\n",
    "    if not isinstance(progress, float):\n",
    "        progress = 0\n",
    "    if progress < 0:\n",
    "        progress = 0\n",
    "    if progress >= 1:\n",
    "        progress = 1\n",
    "        \n",
    "    block = int(round(bar_length * progress))\n",
    "    clear_output(wait = True)\n",
    "    \n",
    "    text1 = \"Execution index: {0} {1:d}\".format((\"\" * block + \"\" * (bar_length - block*100)), (exe_id))\n",
    "    print(text1)\n",
    "    \n",
    "    text2 = \"Objective function value: {0} {1:.16f}\".format((\"\" * block + \"\" * (bar_length - block*100)), (u_t))\n",
    "    print(text2)\n",
    "    \n",
    "    text3 = \"Iteration progress: [{0}] {1:.1f}%\".format((\"#\" * block + \"-\" * (bar_length - block)), (progress * 100))\n",
    "    print(text3)\n",
    "    \n",
    "    \n",
    "    "
   ]
  },
  {
   "cell_type": "code",
   "execution_count": 42,
   "metadata": {},
   "outputs": [],
   "source": [
    "def training(exe_id):\n",
    "    global K, m, T, e\n",
    "    \n",
    "    D = np.array([out_diss_mtx1, out_diss_mtx2, out_diss_mtx3])\n",
    "    X,Y,Z=D.shape\n",
    "    \n",
    "    #params membership degree\n",
    "    md_u_i=np.empty(shape=(K), dtype=np.float32)\n",
    "    U=np.empty(shape=(Y, K), dtype=np.float32)\n",
    "    \n",
    "    #params cuda_find_best_medoid\n",
    "    temp_array=np.empty(shape=(X*K, len(D[0])), dtype=np.float32)\n",
    "    # print(temp_array.shape)\n",
    "    idx=np.zeros(shape=(K), dtype=np.float32)\n",
    "    nG=np.empty(shape=(K, X), dtype=np.float32)\n",
    "    \n",
    "    #params cuda_calculate_relevance_weights\n",
    "    aux_nL=np.empty(shape=(K, X), dtype=np.float64)\n",
    "    \n",
    "    #params cuda_find_best_fuzzy_partition\n",
    "    u_i=np.empty(shape=(K), dtype=np.float32)\n",
    "    nU=np.empty(shape=(Y, K), dtype=np.float32)\n",
    "    \n",
    "    G = random_medoid_vector(D, K)\n",
    "    L = relevance_weight_vector(D, K)\n",
    "    \n",
    "   #--------------------------------------------\n",
    "    #s1 = time.time()\n",
    "    cuda.current_context().deallocations.clear()\n",
    "    with cuda.defer_cleanup():\n",
    "        threadsperblock = 1024\n",
    "        blockspergrid = (Y + (threadsperblock - 1)) // threadsperblock\n",
    "        cuda_membership_degree_vector[blockspergrid, threadsperblock](D, G, L, md_u_i, U)\n",
    "    #print(\"Membership degree time: {}\".format(time.time() - s1))\n",
    "    #--------------------------------------------\n",
    "    \n",
    "    u_t = objective_function(D, G, L, U)\n",
    "    u_t_m1 = np.inf \n",
    "    \n",
    "    best_j, best_cfg = np.inf, None\n",
    "    for t in range(T):\n",
    "        \n",
    "        #--------------------------------------------\n",
    "        #s1 = time.time()           \n",
    "        cuda.current_context().deallocations.clear()\n",
    "        with cuda.defer_cleanup():\n",
    "            threadsperblock = 1024\n",
    "            blockspergrid = (Y + (threadsperblock - 1)) // threadsperblock\n",
    "            cuda_find_best_medoid[blockspergrid, threadsperblock](D, U, temp_array, idx, nG)\n",
    "        nG=np.array(nG, dtype=np.int16)\n",
    "        #print(\"cuda_find_best_medoid time: {}\".format(time.time() - s1))\n",
    "        #--------------------------------------------\n",
    "        \n",
    "        #--------------------------------------------\n",
    "        #s1 = time.time()\n",
    "        cuda.current_context().deallocations.clear()\n",
    "        with cuda.defer_cleanup():\n",
    "            threadsperblock = 1024\n",
    "            blockspergrid = (Y + (threadsperblock - 1)) // threadsperblock\n",
    "            cuda_calculate_relevance_weights[blockspergrid, threadsperblock](D, nG, U, aux_nL)\n",
    "        nL=aux_nL\n",
    "        #print(\"cuda_calculate_relevance_weights time: {}\".format(time.time() - s1))\n",
    "        #--------------------------------------------\n",
    "        \n",
    "        #--------------------------------------------\n",
    "        #s1 = time.time()\n",
    "        cuda.current_context().deallocations.clear()\n",
    "        with cuda.defer_cleanup():\n",
    "            threadsperblock = 1024\n",
    "            blockspergrid = (Y + (threadsperblock - 1)) // threadsperblock\n",
    "            cuda_find_best_fuzzy_partition[blockspergrid, threadsperblock](D, nG, nL, u_i, nU)\n",
    "        #print(\"cuda_find_best_fuzzy_partition time: {}\".format(time.time() - s1))\n",
    "        #--------------------------------------------\n",
    "        \n",
    "        u_t_m1 = u_t\n",
    "        #s1 = time.time()\n",
    "        u_t = objective_function(D, nG, nL, nU)\n",
    "        #print(\"Objective function time: {}\".format(time.time() - s1))\n",
    "\n",
    "        udif = u_t - u_t_m1\n",
    "        G = nG\n",
    "        L = nL\n",
    "        U = nU\n",
    "        \n",
    "        update_progress((t / T), u_t, exe_id)\n",
    "        \n",
    "        #-----------------------------------------------------\n",
    "        if u_t < best_j:\n",
    "            params = (G, L, U)\n",
    "            best_j, best_cfg = u_t, params\n",
    "            \n",
    "        if (abs(udif)<e):\n",
    "            break\n",
    "            \n",
    "    update_progress(1, best_j, exe_id)\n",
    "    return best_j, params"
   ]
  },
  {
   "cell_type": "code",
   "execution_count": 43,
   "metadata": {},
   "outputs": [
    {
     "name": "stdout",
     "output_type": "stream",
     "text": [
      "Execution index:  0\n",
      "Objective function value:  3164.0443912128394004\n",
      "Iteration progress: [##################################################] 100.0%\n",
      "The best value of the objective function in this iteration is: 3164.0443912128394\n",
      "The best value of the objective function in all executions is: 3164.0443912128394\n"
     ]
    }
   ],
   "source": [
    "print (\"Start training ...\")\n",
    "global K\n",
    "\n",
    "best_j_exec, best_cfg_exec = np.inf, None\n",
    "# Execution\n",
    "for exe_id in range(1):  \n",
    "    best_j, params = training(exe_id)\n",
    "\n",
    "    print(\"The best value of the objective function in this iteration is: {}\".format(best_j))\n",
    "        \n",
    "    if best_j < best_j_exec:\n",
    "        best_j_exec, best_cfg_exec = best_j, params\n",
    "    \n",
    "print(\"The best value of the objective function in all executions is: {}\".format(best_j_exec))\n"
   ]
  },
  {
   "cell_type": "code",
   "execution_count": 44,
   "metadata": {},
   "outputs": [
    {
     "data": {
      "image/png": "[encoded data removed]",
      "text/plain": [
       "<Figure size 432x288 with 1 Axes>"
      ]
     },
     "metadata": {
      "needs_background": "light"
     },
     "output_type": "display_data"
    }
   ],
   "source": [
    "G, L, U=best_cfg_exec\n",
    "#print(G)\n",
    "U = U.T\n",
    "# Show cluster model\n",
    "fig2, ax2 = plt.subplots()\n",
    "ax2.set_title('Clusters View 1')\n",
    "for j in range(K):\n",
    "    #print(U.argmax(axis=0))\n",
    "    ax2.plot(out_diss_mtx1[0, U.argmax(axis=0) == j],\n",
    "             out_diss_mtx1[1, U.argmax(axis=0) == j], 'o',\n",
    "             label='clusters ' + str(j))\n",
    "ax2.legend()\n",
    "plt.show()"
   ]
  },
  {
   "cell_type": "code",
   "execution_count": 45,
   "metadata": {},
   "outputs": [
    {
     "data": {
      "image/png": "[encoded data removed]",
      "text/plain": [
       "<Figure size 432x288 with 1 Axes>"
      ]
     },
     "metadata": {
      "needs_background": "light"
     },
     "output_type": "display_data"
    }
   ],
   "source": [
    "G, L, U=best_cfg_exec\n",
    "#print(G)\n",
    "U = U.T\n",
    "# Show cluster model\n",
    "fig2, ax2 = plt.subplots()\n",
    "ax2.set_title('Clusters View 2')\n",
    "for j in range(K):\n",
    "    #print(U.argmax(axis=0))\n",
    "    ax2.plot(out_diss_mtx2[0, U.argmax(axis=0) == j],\n",
    "             out_diss_mtx2[1, U.argmax(axis=0) == j], 'o',\n",
    "             label='clusters ' + str(j))\n",
    "ax2.legend()\n",
    "plt.show()\n"
   ]
  },
  {
   "cell_type": "code",
   "execution_count": 46,
   "metadata": {},
   "outputs": [
    {
     "data": {
      "image/png": "[encoded data removed]",
      "text/plain": [
       "<Figure size 432x288 with 1 Axes>"
      ]
     },
     "metadata": {
      "needs_background": "light"
     },
     "output_type": "display_data"
    }
   ],
   "source": [
    "G, L, U=best_cfg_exec\n",
    "#print(G)\n",
    "U = U.T\n",
    "# Show cluster model\n",
    "fig2, ax2 = plt.subplots()\n",
    "ax2.set_title('Clusters View 3')\n",
    "for j in range(K):\n",
    "    #print(U.argmax(axis=0))\n",
    "    ax2.plot(out_diss_mtx3[0, U.argmax(axis=0) == j],\n",
    "             out_diss_mtx3[1, U.argmax(axis=0) == j], 'o',\n",
    "             label='clusters ' + str(j))\n",
    "ax2.legend()\n",
    "plt.show()"
   ]
  },
  {
   "cell_type": "code",
   "execution_count": 47,
   "metadata": {},
   "outputs": [
    {
     "name": "stdout",
     "output_type": "stream",
     "text": [
      "[1 1 1 ... 7 0 2]\n",
      "[1 1 1 ... 7 0 2]\n",
      "[1 1 1 ... 7 0 2]\n",
      "[1 1 1 ... 7 0 2]\n",
      "[1 1 1 ... 7 0 2]\n",
      "[1 1 1 ... 7 0 2]\n",
      "[1 1 1 ... 7 0 2]\n",
      "[1 1 1 ... 7 0 2]\n",
      "[1 1 1 ... 7 0 2]\n",
      "[1 1 1 ... 7 0 2]\n"
     ]
    },
    {
     "data": {
      "image/png": "[encoded data removed]",
      "text/plain": [
       "<Figure size 432x288 with 1 Axes>"
      ]
     },
     "metadata": {
      "needs_background": "light"
     },
     "output_type": "display_data"
    }
   ],
   "source": [
    "fig2, ax2 = plt.subplots()\n",
    "ax2.set_title('Clusters Best Fuzzy Partition')\n",
    "for j in range(K):\n",
    "\n",
    "    print(U.argmin(axis=0))\n",
    "    ax2.plot(U[0, U.argmax(axis=0) == j],\n",
    "             U[1, U.argmax(axis=0) == j], 'o',\n",
    "             label='clusters ' + str(j))\n",
    "ax2.legend()\n",
    "plt.show()"
   ]
  },
  {
   "cell_type": "code",
   "execution_count": 48,
   "metadata": {},
   "outputs": [],
   "source": [
    "def crisp_partition(U):\n",
    "    return U.argmin(axis=0)"
   ]
  },
  {
   "cell_type": "code",
   "execution_count": 49,
   "metadata": {},
   "outputs": [
    {
     "data": {
      "text/plain": [
       "(2000,)"
      ]
     },
     "execution_count": 49,
     "metadata": {},
     "output_type": "execute_result"
    }
   ],
   "source": [
    "u_crisp=crisp_partition(U)\n",
    "u_crisp.shape"
   ]
  },
  {
   "cell_type": "code",
   "execution_count": 50,
   "metadata": {},
   "outputs": [
    {
     "name": "stdout",
     "output_type": "stream",
     "text": [
      "Counter({1: 459, 2: 402, 7: 322, 4: 321, 0: 278, 6: 146, 5: 72})\n",
      "Counter({1: 756, 2: 398, 4: 321, 0: 245, 6: 145, 7: 123, 5: 12})\n"
     ]
    }
   ],
   "source": [
    "import collections\n",
    "print(collections.Counter(U.argmax(axis=0)))\n",
    "print(collections.Counter(u_crisp))\n"
   ]
  },
  {
   "cell_type": "code",
   "execution_count": 51,
   "metadata": {},
   "outputs": [
    {
     "name": "stdout",
     "output_type": "stream",
     "text": [
      "[0 0 0 ... 9 9 9]\n"
     ]
    }
   ],
   "source": [
    "samples=200\n",
    "labels=10\n",
    "y=np.array([[l for s in range(samples)] for l in range(labels)]).flatten()\n",
    "print(y)"
   ]
  },
  {
   "cell_type": "code",
   "execution_count": 52,
   "metadata": {},
   "outputs": [
    {
     "name": "stdout",
     "output_type": "stream",
     "text": [
      "Crisp partition corrected rand index: 0.1706653047417132\n"
     ]
    }
   ],
   "source": [
    "rand_crisp = adjusted_rand_score(u_crisp,y)\n",
    "print(\"Crisp partition corrected rand index: {:.16f}\".format(rand_crisp))\n"
   ]
  },
  {
   "cell_type": "code",
   "execution_count": 53,
   "metadata": {},
   "outputs": [
    {
     "name": "stdout",
     "output_type": "stream",
     "text": [
      "[1 1 1 ... 7 0 2]\n"
     ]
    }
   ],
   "source": [
    "print(u_crisp)"
   ]
  },
  {
   "cell_type": "code",
   "execution_count": 54,
   "metadata": {},
   "outputs": [],
   "source": [
    "np.savetxt(\"aux_data/u_crisp.txt\", u_crisp)"
   ]
  },
  {
   "cell_type": "code",
   "execution_count": null,
   "metadata": {},
   "outputs": [],
   "source": []
  }
 ],
 "metadata": {
  "kernelspec": {
   "display_name": "Python 3",
   "language": "python",
   "name": "python3"
  },
  "language_info": {
   "codemirror_mode": {
    "name": "ipython",
    "version": 3
   },
   "file_extension": ".py",
   "mimetype": "text/x-python",
   "name": "python",
   "nbconvert_exporter": "python",
   "pygments_lexer": "ipython3",
   "version": "3.7.3"
  }
 },
 "nbformat": 4,
 "nbformat_minor": 2
}
